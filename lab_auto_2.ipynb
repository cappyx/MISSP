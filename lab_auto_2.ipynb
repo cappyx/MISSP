{
  "cells": [
    {
      "cell_type": "markdown",
      "metadata": {
        "id": "aDLyCU-ZqirI"
      },
      "source": [
        "**Lab 2: Advanced Linear Programming and Sensitivity Analysis**\n",
        "- Defining more complex linear programming tasks\n",
        "- Learning different constraint types\n",
        "- Sensitivity analysis"
      ]
    },
    {
      "cell_type": "markdown",
      "metadata": {
        "id": "lJQzV8ChqirO"
      },
      "source": [
        "**Production Optimization Problem**\n",
        "\n",
        "This program solves a linear programming problem for optimizing production of three products (A, B, and C).\n",
        "\n",
        "The A can be for example a number of beds, B can be meters of plywood and C can be meters of low quality plywood.\n",
        "Notice that it does not make sense to produce a half of a bed, so we need to use integer variables for this decision variable.\n",
        "\n",
        "**Decision Variables:**\n",
        "- unitsA: Number of units of product A to produce (integer):\n",
        "- unitsB: Number of units of product B to produce\n",
        "- unitsC: Number of units of product C to produce\n",
        "\n",
        "**Objective Function:**\n",
        "- Maximize profit: 400 PLN per unit A + 300 PLN per unit B + 200 PLN per unit C\n",
        "\n",
        "**Constraints:**\n",
        "- Assembly time: 0.3h per A + 0.1h per B + 0.1h per C ≤ 1800 hours\n",
        "- Quality control: 0.1h per A + 0.08h per B + 0.04h per C ≤ 800 hours\n",
        "- Packaging: 0.06h per A + 0.04h per B + 0.05h per C ≤ 700 hours\n"
      ]
    },
    {
      "cell_type": "code",
      "execution_count": null,
      "metadata": {
        "id": "ZQdKvQk-qirP",
        "outputId": "5b6a4a33-40c4-49db-9fa9-2ede22f67eca"
      },
      "outputs": [
        {
          "name": "stdout",
          "output_type": "stream",
          "text": [
            "Status: 1\n",
            "A = 1894.0\n",
            "B = 2948.1667\n",
            "C = 9368.6667\n",
            "Total profit =  3515783.3499999996\n"
          ]
        }
      ],
      "source": [
        "# In Google Colab, ensure PuLP is installed:\n",
        "!pip install pulp\n",
        "\n",
        "from pulp import (\n",
        "    LpProblem,\n",
        "    LpVariable,\n",
        "    LpMaximize,\n",
        "    LpInteger,\n",
        "    LpContinuous,\n",
        "    LpBinary,\n",
        "    value,\n",
        "    PULP_CBC_CMD\n",
        ")\n",
        "\n",
        "# 1) Create the optimization problem (maximize profit).\n",
        "prob = LpProblem(\"Advanced_Production_Problem\", LpMaximize)\n",
        "\n",
        "# 2) Define Decision Variables\n",
        "# Let's say:\n",
        "#   - A (number of units of product A) is integer (like beds).\n",
        "#   - B (number of units of product B) is continuous or integer, depending on your scenario.\n",
        "#   - C (number of units of product C) is continuous or integer, too.\n",
        "\n",
        "A = LpVariable(\"A\", lowBound=0, cat=LpInteger)  # must be integer\n",
        "B = LpVariable(\"B\", lowBound=0)  # continous meters of plywood\n",
        "C = LpVariable(\"C\", lowBound=0)  # continous meters of low quality plywood\n",
        "\n",
        "# 3) Define Objective Function\n",
        "# Profit values (you can tweak these):\n",
        "profit_A = 400\n",
        "profit_B = 300\n",
        "profit_C = 200\n",
        "\n",
        "prob += profit_A*A + profit_B*B + profit_C*C, \"Profit_Objective\"\n",
        "\n",
        "# 4) Define Constraints\n",
        "\n",
        "# --- Resource / Time Constraints (same as the previous example, extended if desired) ---\n",
        "# Example: max available hours in Assembly, Quality Control, and Packaging\n",
        "prob += 0.3*A + 0.1*B + 0.1*C <= 1800, \"Assembly_Hours\"\n",
        "prob += 0.1*A + 0.08*B + 0.04*C <= 800, \"Quality_Control_Hours\"\n",
        "prob += 0.06*A + 0.04*B + 0.05*C <= 700, \"Packaging_Hours\"\n",
        "\n",
        "# --- Minimum Demand Constraints ---\n",
        "# Suppose the company must produce at least 100 units of A, 50 of B, and 80 of C to satisfy orders.\n",
        "prob += A >= 100, \"Min_Demand_A\"\n",
        "prob += B >= 50,  \"Min_Demand_B\"\n",
        "prob += C >= 80,  \"Min_Demand_C\"\n",
        "\n",
        "# --- Optional Additional Constraints ---\n",
        "# For instance, if product C requires a special component that is limited:\n",
        "# Let's say we have only 500 units of that component, and each unit of C consumes 1 unit of that component\n",
        "# prob += C <= 500, \"Special_Component_Limit\"\n",
        "\n",
        "# Alternatively, we might have a ratio constraint, e.g., for product mix synergy:\n",
        "# For example, we do not want to produce more B than 2 times A\n",
        "# prob += B <= 2 * A, \"Mix_Ratio_Constraint\"\n",
        "\n",
        "# 5) Solve the problem\n",
        "prob.writeLP(\"AdvancedProduction.lp\")\n",
        "prob.solve(PULP_CBC_CMD(msg=False))  # CBC solver\n",
        "\n",
        "# 6) Print results\n",
        "print(\"Status:\", prob.status)\n",
        "for v in prob.variables():\n",
        "    print(v.name, \"=\", v.varValue)\n",
        "\n",
        "print(\"Total profit = \", value(prob.objective))"
      ]
    },
    {
      "cell_type": "markdown",
      "metadata": {
        "id": "Q5UVZRegqirS"
      },
      "source": [
        "## 2. Interpreting the Extended Model\n",
        "\n",
        "\n",
        "\n",
        "### Minimum Demand Constraints:\n",
        "- E.g. `A >= 100` ensures at least 100 units of A are produced.\n",
        "\n",
        "### Optional Constraints:\n",
        "- Resource constraints, ratio constraints, or any other real-world limitations.\n",
        "\n",
        "\n",
        "\n",
        "## 3. Performing Sensitivity Analysis\n",
        "\n",
        "### Approach A: Manual Parameter Variation\n",
        "- **Change the availability of resources:**\n",
        "  - For example, reduce the 1800 hours of Assembly to 1500, solve again, and observe the new optimal solution.\n",
        "- **Change the profit coefficients:**\n",
        "  - If the profit for product C increases to 250, does the solution shift toward more C?\n",
        "- **Change the minimum demand:**\n",
        "  - If the market demands 150 units of A instead of 100, how does that affect the objective?"
      ]
    },
    {
      "cell_type": "markdown",
      "metadata": {
        "id": "QJjwtpeOqirS"
      },
      "source": [
        "## Exercise 1: Minimum Demand and New Constraints\n",
        "\n",
        "- Implement the code above and check if it finds a feasible solution.\n",
        "- Alter the minimum demands:\n",
        "  - Increase or decrease them to see if the solution changes drastically.\n",
        "- Interpret which constraints become \"binding\" (fully used, the value of the constraint is equal to its limit) in the optimal solution."
      ]
    },
    {
      "cell_type": "code",
      "execution_count": null,
      "metadata": {
        "id": "PDVQ0cTDqirT"
      },
      "outputs": [],
      "source": []
    },
    {
      "cell_type": "markdown",
      "metadata": {
        "id": "pmkC8i_rqirT"
      },
      "source": [
        "## Exercise 2: Sensitivity Analysis on Resource Availability\n",
        "\n",
        "- Create a loop that iterates over possible Assembly hours: 1600, 1800, 2000.\n",
        "- For each iteration, solve the problem and record:\n",
        "  - The optimal quantity of A, B, C.\n",
        "  - The total profit.\n",
        "- Plot or tabulate results to see the trend (if you like, e.g., in a DataFrame)."
      ]
    },
    {
      "cell_type": "code",
      "execution_count": null,
      "metadata": {
        "id": "MXZ40OV2qirU"
      },
      "outputs": [],
      "source": []
    },
    {
      "cell_type": "markdown",
      "metadata": {
        "id": "DEJYMw14qirU"
      },
      "source": [
        "## Exercise 3 (Optional): Binary Decision Constraints\n",
        "\n",
        "- Add a binary variable that indicates whether you open a specific production line (1) or not (0).\n",
        "- If that line is closed, the hours available might be reduced or zero.\n",
        "- Solve and see how the solver decides the best strategy (to open or not to open)."
      ]
    },
    {
      "cell_type": "markdown",
      "metadata": {
        "id": "XlPz-yUgqirV"
      },
      "source": []
    },
    {
      "cell_type": "markdown",
      "metadata": {
        "id": "rga-7a-FqirV"
      },
      "source": [
        "# Bonus:\n",
        " - Add sliders to show the values of the variables and the constraints."
      ]
    },
    {
      "cell_type": "code",
      "execution_count": null,
      "metadata": {
        "id": "XXMllwlOqirV",
        "outputId": "c7c38653-f2dc-49ad-d82b-e366d13d4640",
        "colab": {
          "referenced_widgets": [
            "5cdd9bece2084cbf862ae47fc924a784",
            "d2006d2f25eb4da480a99191511019ea"
          ]
        }
      },
      "outputs": [
        {
          "data": {
            "application/vnd.jupyter.widget-view+json": {
              "model_id": "5cdd9bece2084cbf862ae47fc924a784",
              "version_major": 2,
              "version_minor": 0
            },
            "text/plain": [
              "FloatSlider(value=400.0, continuous_update=False, description='Profit A', max=800.0, step=10.0)"
            ]
          },
          "metadata": {},
          "output_type": "display_data"
        },
        {
          "data": {
            "application/vnd.jupyter.widget-view+json": {
              "model_id": "d2006d2f25eb4da480a99191511019ea",
              "version_major": 2,
              "version_minor": 0
            },
            "text/plain": [
              "Output()"
            ]
          },
          "metadata": {},
          "output_type": "display_data"
        }
      ],
      "source": [
        "import ipywidgets as widgets\n",
        "from IPython.display import display\n",
        "from pulp import *\n",
        "\n",
        "def solve_optimization(profit_A_value=400):\n",
        "    # Create the optimization problem (maximize profit)\n",
        "    prob = LpProblem(\"Advanced_Production_Problem\", LpMaximize)\n",
        "\n",
        "    # Define Decision Variables\n",
        "    A = LpVariable(\"A\", lowBound=0, cat=LpInteger)  # must be integer\n",
        "    B = LpVariable(\"B\", lowBound=0)  # continous meters of plywood\n",
        "    C = LpVariable(\"C\", lowBound=0)  # continous meters of low quality plywood\n",
        "\n",
        "    # Profit values\n",
        "    profit_A = profit_A_value\n",
        "    profit_B = 300\n",
        "    profit_C = 200\n",
        "\n",
        "    # Define Objective Function\n",
        "    prob += profit_A*A + profit_B*B + profit_C*C, \"Profit_Objective\"\n",
        "\n",
        "    # Define Constraints\n",
        "    # Resource / Time Constraints\n",
        "    prob += 0.3*A + 0.1*B + 0.1*C <= 1800, \"Assembly_Hours\"\n",
        "    prob += 0.1*A + 0.08*B + 0.04*C <= 800, \"Quality_Control_Hours\"\n",
        "    prob += 0.06*A + 0.04*B + 0.05*C <= 700, \"Packaging_Hours\"\n",
        "\n",
        "    # Minimum Demand Constraints\n",
        "    prob += A >= 100, \"Min_Demand_A\"\n",
        "    prob += B >= 50,  \"Min_Demand_B\"\n",
        "    prob += C >= 80,  \"Min_Demand_C\"\n",
        "\n",
        "    # Solve the problem\n",
        "    prob.solve(PULP_CBC_CMD(msg=False))  # CBC solver\n",
        "\n",
        "    # Return results\n",
        "    results = {\n",
        "        \"status\": LpStatus[prob.status],\n",
        "        \"A\": A.varValue,\n",
        "        \"B\": B.varValue,\n",
        "        \"C\": C.varValue,\n",
        "        \"total_profit\": value(prob.objective)\n",
        "    }\n",
        "\n",
        "    return results\n",
        "\n",
        "# Define slider for profit_A\n",
        "profit_A_slider = widgets.FloatSlider(\n",
        "    value=400,\n",
        "    min=0,\n",
        "    max=800,\n",
        "    step=10,\n",
        "    description='Profit A',\n",
        "    continuous_update=False\n",
        ")\n",
        "\n",
        "# Output widget to display results\n",
        "output = widgets.Output()\n",
        "\n",
        "# Function to update results when slider changes\n",
        "def update_results(change):\n",
        "    with output:\n",
        "        output.clear_output()\n",
        "        results = solve_optimization(profit_A_slider.value)\n",
        "        print(f\"Status: {results['status']}\")\n",
        "        print(f\"A = {results['A']}\")\n",
        "        print(f\"B = {results['B']}\")\n",
        "        print(f\"C = {results['C']}\")\n",
        "        print(f\"Total profit = {results['total_profit']}\")\n",
        "\n",
        "# Connect the slider to the update function\n",
        "profit_A_slider.observe(update_results, names='value')\n",
        "\n",
        "# Display the slider and initial results\n",
        "display(profit_A_slider)\n",
        "display(output)\n",
        "\n",
        "# Show initial results\n",
        "update_results(None)"
      ]
    },
    {
      "cell_type": "code",
      "execution_count": null,
      "metadata": {
        "id": "Fx1is3bkqirW"
      },
      "outputs": [],
      "source": []
    }
  ],
  "metadata": {
    "kernelspec": {
      "display_name": "base",
      "language": "python",
      "name": "python3"
    },
    "language_info": {
      "codemirror_mode": {
        "name": "ipython",
        "version": 3
      },
      "file_extension": ".py",
      "mimetype": "text/x-python",
      "name": "python",
      "nbconvert_exporter": "python",
      "pygments_lexer": "ipython3",
      "version": "3.10.9"
    },
    "colab": {
      "provenance": []
    }
  },
  "nbformat": 4,
  "nbformat_minor": 0
}