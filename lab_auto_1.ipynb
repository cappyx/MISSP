{
  "cells": [
    {
      "cell_type": "markdown",
      "metadata": {
        "id": "ODs1xFyeoFFC"
      },
      "source": [
        "# Welcome to the automation lab!\n",
        "\n",
        "The lab is divided into several sections, each focusing on a different aspect of factory control.\n",
        "\n",
        "## Lab Topics\n",
        "\n",
        "**Lab 1: Introduction to Python and PuLP**\n",
        "- Getting familiar with Python environment\n",
        "- Installing and configuring PuLP library\n",
        "- Solving first simple linear programming problem\n",
        "\n",
        "**Lab 2: Advanced Linear Programming and Sensitivity Analysis**\n",
        "- Defining more complex linear programming tasks\n",
        "- Learning different constraint types\n",
        "- Sensitivity analysis\n",
        "\n",
        "**Lab 3: Dynamic Programming - Implementation in Python**\n",
        "- Understanding dynamic programming concepts\n",
        "- Implementing simple DP tasks\n",
        "- Result interpretation in production context\n",
        "\n",
        "**Lab 4: Introduction to Non-linear Optimization**\n",
        "- Understanding differences between linear and non-linear optimization\n",
        "- Getting familiar with scipy.optimize\n",
        "- Solving example non-linear problems\n",
        "\n",
        "**Lab 5: Scheduling with PuLP (Job Shop/Flow Shop Example)**\n",
        "- Modeling scheduling problems as integer programming\n",
        "- Implementing simple flow shop or job shop cases\n",
        "- Understanding computational complexity\n",
        "\n",
        "**Lab 6: Network Methods - CPM/PERT in Python**\n",
        "- Learning critical path method\n",
        "- Implementing algorithms for time calculations\n",
        "- Getting familiar with PERT method\n",
        "\n",
        "**Lab 7: Machine Learning Basics in Python - Regression and Classification**\n",
        "- Learning scikit-learn basics\n",
        "- Data loading, splitting, and model training\n",
        "- Result interpretation and model quality assessment\n",
        "\n",
        "**Lab 8: Methods Integration - Forecasting + Optimization in PuLP**\n",
        "- Showing how ML can provide input data for optimization models\n",
        "- Implementing forecasting and optimization pipeline\n",
        "- Discussing practical aspects of ML and optimization integration\n"
      ]
    },
    {
      "cell_type": "code",
      "execution_count": null,
      "metadata": {
        "id": "Uua86FEvoFFI",
        "outputId": "34dfb195-6b52-4241-e10a-70121d543d1b"
      },
      "outputs": [
        {
          "name": "stdout",
          "output_type": "stream",
          "text": [
            "Sum: 4\n",
            "Multiplication: 15\n",
            "x + y = 30\n",
            "Item: 1\n",
            "Item: 2\n",
            "Item: 3\n",
            "Item: 4\n",
            "Item: 5\n",
            "x is less than y\n",
            "Hello, Alice!\n",
            "0\n",
            "1\n",
            "2\n",
            "3\n",
            "4\n",
            "[0, 1, 4, 9, 16, 25, 36, 49, 64, 81]\n",
            "[2, 4, 6, 8, 10]\n",
            "Hello, Alice!\n",
            "Hello, Bob!\n",
            "Hello, Charlie!\n"
          ]
        }
      ],
      "source": [
        "# Basic Python Refresher\n",
        "# Cell 1: Python Basics\n",
        "\n",
        "# Basic arithmetic\n",
        "print(\"Sum:\", 2 + 2)\n",
        "print(\"Multiplication:\", 3 * 5)\n",
        "\n",
        "# Variables\n",
        "x = 10\n",
        "y = 20\n",
        "print(\"x + y =\", x + y)\n",
        "\n",
        "# Lists and loops\n",
        "my_list = [1, 2, 3, 4, 5]\n",
        "for item in my_list:\n",
        "    print(\"Item:\", item)\n",
        "\n",
        "# Conditionals\n",
        "if x < y:\n",
        "    print(\"x is less than y\")\n",
        "else:\n",
        "    print(\"x is greater or equal to y\")\n",
        "\n",
        "\n",
        "\n",
        "# Functions\n",
        "def greet(name):\n",
        "    return f\"Hello, {name}!\"\n",
        "\n",
        "print(greet(\"Alice\"))\n",
        "\n",
        "# Loops\n",
        "for i in range(5):\n",
        "    print(i)\n",
        "\n",
        "# List comprehensions\n",
        "squares = [x**2 for x in range(10)]\n",
        "print(squares)\n",
        "\n",
        "#Filtering\n",
        "numbers = [1, 2, 3, 4, 5, 6, 7, 8, 9, 10]\n",
        "even_numbers = [x for x in numbers if x % 2 == 0]\n",
        "print(even_numbers)\n",
        "\n",
        "\n",
        "names = [\"Alice\", \"Bob\", \"Charlie\"]\n",
        "for name in names:\n",
        "    print(f\"Hello, {name}!\")\n",
        "\n",
        "# Cell 2: Data Structures\n",
        "\n"
      ]
    },
    {
      "cell_type": "code",
      "execution_count": null,
      "metadata": {
        "id": "2xEadCbMoFFK"
      },
      "outputs": [],
      "source": [
        "# Excercise 1\n",
        "# print the first 100 numbers\n",
        "\n",
        "\n",
        "for i in range (100):\n",
        "  print (i)"
      ]
    },
    {
      "cell_type": "code",
      "execution_count": null,
      "metadata": {
        "id": "FQj8fwpxoFFL",
        "outputId": "e5b1e6d7-84ba-4caf-a366-29dc0b1b7cf6"
      },
      "outputs": [
        {
          "name": "stdout",
          "output_type": "stream",
          "text": [
            "List: [1, 2, 3, 4, 5]\n",
            "Person: {'name': 'John', 'age': 30, 'city': 'New York'}\n",
            "John\n",
            "Set: {1, 2, 3, 4, 5}\n",
            "Tuple: (1, 2, 3, 4, 5)\n",
            "String: Hello, World!\n",
            "Hello, Charlie!\n",
            "last letter of the name is e\n"
          ]
        }
      ],
      "source": [
        "# Data structures\n",
        "\n",
        "# Lists\n",
        "my_list = [1, 2, 3, 4, 5]\n",
        "print(\"List:\", my_list)\n",
        "\n",
        "\n",
        "# Dictionaries\n",
        "person = {\n",
        "    \"name\": \"John\",\n",
        "    \"age\": 30,\n",
        "    \"city\": \"New York\"\n",
        "}\n",
        "print(\"Person:\", person)\n",
        "print(person[\"name\"])\n",
        "# Sets\n",
        "my_set = {1, 2, 3, 4, 5}\n",
        "print(\"Set:\", my_set)\n",
        "\n",
        "# Tuples\n",
        "my_tuple = (1, 2, 3, 4, 5)\n",
        "print(\"Tuple:\", my_tuple)\n",
        "\n",
        "# Strings\n",
        "my_string = \"Hello, World!\"\n",
        "print(\"String:\", my_string)\n",
        "\n",
        "print(f\"Hello, {name}!\") # why?\n",
        "\n",
        "print(f\"last letter of the name is {name[-1]}\")\n",
        "\n"
      ]
    },
    {
      "cell_type": "code",
      "execution_count": null,
      "metadata": {
        "id": "ZdiXWgLFoFFM"
      },
      "outputs": [],
      "source": [
        "# Excercise 2\n",
        "# make a function that takes persons name and returns the string containing the the formula \"The person's name is {name}\n",
        "# and the name has x letters, then print the result\"\n",
        "\n",
        "def person_info(name):\n",
        "  name_length= len(name)\n",
        "  return f\"The person's name is {name} and the name has {name_length} letters.\"\n",
        "\n",
        "print(person_info(\"Adrian\"))"
      ]
    },
    {
      "cell_type": "code",
      "execution_count": null,
      "metadata": {
        "id": "SPsV_SwSoFFM",
        "outputId": "25690938-2b49-4022-84d7-50a4427b0b3b"
      },
      "outputs": [
        {
          "name": "stdout",
          "output_type": "stream",
          "text": [
            "Hello, my name is John and I am 30 years old.\n",
            "Hello, my name is John and I am 31 years old.\n"
          ]
        }
      ],
      "source": [
        "# Classes\n",
        "\n",
        "class Person:\n",
        "    def __init__(self, name, age):\n",
        "        self.name = name\n",
        "        self.age = age\n",
        "\n",
        "    def greet(self):\n",
        "        return f\"Hello, my name is {self.name} and I am {self.age} years old.\"\n",
        "\n",
        "\n",
        "new_person = Person(\"John\", 30)\n",
        "print(new_person.greet())\n",
        "\n",
        "new_person.age = 31\n",
        "print(new_person.greet())\n",
        "\n",
        "# Cell 3: File Operations\n",
        "\n"
      ]
    },
    {
      "cell_type": "code",
      "execution_count": null,
      "metadata": {
        "id": "fYc0XFuqoFFN"
      },
      "outputs": [],
      "source": [
        "#loading from internet:\n",
        "import os\n",
        "\n",
        "# Create 'data' folder\n",
        "os.makedirs(\"data\", exist_ok=True)\n",
        "\n",
        "# Define the raw file URLs from GitHub\n",
        "file_urls = {\n",
        "    \"email.csv\": \"https://raw.githubusercontent.com/AdoHaha/automation_robotics_lab/master/data/email.csv\",\n",
        "    \"example.txt\": \"https://raw.githubusercontent.com/AdoHaha/automation_robotics_lab/master/data/example.txt\"\n",
        "}\n",
        "\n",
        "# Download the files\n",
        "for file_name, url in file_urls.items():\n",
        "    os.system(f\"wget -O data/{file_name} {url}\")\n",
        "\n",
        "print(\"Download complete!\")\n"
      ]
    },
    {
      "cell_type": "code",
      "execution_count": null,
      "metadata": {
        "id": "8l-N_vDeoFFO",
        "outputId": "75dc667a-d0e3-477f-8d10-d249b4f2188f"
      },
      "outputs": [
        {
          "name": "stdout",
          "output_type": "stream",
          "text": [
            "         Login email  Identifier First name Last name  Mark\n",
            "0  laura@example.com        2070      Laura      Grey     3\n",
            "1  craig@example.com        4081      Craig   Johnson     4\n",
            "2   mary@example.com        9346       Mary   Jenkins     2\n",
            "3  jamie@example.com        5079      Jamie     Smith     2\n",
            "         Login email  Identifier First name Last name  Mark   pass\n",
            "0  laura@example.com        2070      Laura      Grey     3   True\n",
            "1  craig@example.com        4081      Craig   Johnson     4   True\n",
            "2   mary@example.com        9346       Mary   Jenkins     2  False\n",
            "3  jamie@example.com        5079      Jamie     Smith     2  False\n"
          ]
        }
      ],
      "source": [
        "# Using various packages\n",
        "\n",
        "import pandas as pd\n",
        "\n",
        "# Reading a CSV file\n",
        "df = pd.read_csv(\"data/email.csv\" , sep=\";\")\n",
        "print(df.head())\n",
        "\n",
        "df.describe()\n",
        "\n",
        "# Excercise 3:\n",
        "# make a telephone book that takes a name and telephone number. When asked about the number person.what_is_your_number() it returns with printintg \"{names} has a number {number}\"\n",
        "df[\"pass\"] = df[\"Mark\"] >= 3\n",
        "print(df)\n",
        "\n",
        "\n",
        "\n"
      ]
    },
    {
      "cell_type": "code",
      "execution_count": null,
      "metadata": {
        "id": "XReQ5GSaoFFP",
        "outputId": "5ef8b6a5-eda4-40bf-ce06-5a98e4567593"
      },
      "outputs": [
        {
          "name": "stdout",
          "output_type": "stream",
          "text": [
            "[1 2 3 4 5]\n",
            "[ 2  4  6  8 10]\n"
          ]
        },
        {
          "data": {
            "image/png": "[encoded data removed]",
            "text/plain": [
              "<Figure size 640x480 with 1 Axes>"
            ]
          },
          "metadata": {},
          "output_type": "display_data"
        }
      ],
      "source": [
        "\n",
        "import numpy as np\n",
        "\n",
        "# Creating a numpy array\n",
        "arr = np.array([1, 2, 3, 4, 5])\n",
        "print(arr)\n",
        "arr2 = arr * 2\n",
        "print(arr2)\n",
        "\n",
        "import matplotlib.pyplot as plt\n",
        "\n",
        "# Plotting a simple graph\n",
        "plt.plot([1, 2, 3, 4, 5], [1, 4, 9, 16, 25])\n",
        "plt.xlabel(\"X-axis\")\n",
        "plt.ylabel(\"Y-axis\")\n",
        "plt.title(\"Simple Graph\")\n",
        "plt.show()\n"
      ]
    },
    {
      "cell_type": "code",
      "execution_count": null,
      "metadata": {
        "id": "jPEFmp1YoFFP",
        "outputId": "fcdfc263-c4fb-4d2f-dbc2-16c47ef7f3af"
      },
      "outputs": [
        {
          "name": "stderr",
          "output_type": "stream",
          "text": [
            "--2025-03-04 09:37:52--  https://raw.githubusercontent.com/AdoHaha/automation_robotics_lab/master/data/email.csv\n",
            "Resolving raw.githubusercontent.com (raw.githubusercontent.com)... 185.199.109.133, 185.199.108.133, 185.199.110.133, ...\n",
            "Connecting to raw.githubusercontent.com (raw.githubusercontent.com)|185.199.109.133|:443... connected.\n",
            "HTTP request sent, awaiting response... 200 OK\n",
            "Length: 198 [text/plain]\n",
            "Saving to: ‘data/email.csv’\n",
            "\n",
            "     0K                                                       100% 8,79M=0s\n",
            "\n",
            "2025-03-04 09:37:52 (8,79 MB/s) - ‘data/email.csv’ saved [198/198]\n",
            "\n",
            "--2025-03-04 09:37:52--  https://raw.githubusercontent.com/AdoHaha/automation_robotics_lab/master/data/example.txt\n",
            "Resolving raw.githubusercontent.com (raw.githubusercontent.com)... 185.199.109.133, 185.199.108.133, 185.199.110.133, ...\n",
            "Connecting to raw.githubusercontent.com (raw.githubusercontent.com)|185.199.109.133|:443... connected.\n",
            "HTTP request sent, awaiting response... "
          ]
        },
        {
          "name": "stdout",
          "output_type": "stream",
          "text": [
            "Download complete!\n"
          ]
        },
        {
          "name": "stderr",
          "output_type": "stream",
          "text": [
            "200 OK\n",
            "Length: 41 [text/plain]\n",
            "Saving to: ‘data/example.txt’\n",
            "\n",
            "     0K                                                       100% 82,9K=0s\n",
            "\n",
            "2025-03-04 09:37:53 (82,9 KB/s) - ‘data/example.txt’ saved [41/41]\n",
            "\n"
          ]
        }
      ],
      "source": [
        "#"
      ]
    },
    {
      "cell_type": "code",
      "execution_count": null,
      "metadata": {
        "id": "6b4rhHljoFFQ",
        "outputId": "35bc537f-43c7-483b-e8e0-f215bf6aa371"
      },
      "outputs": [
        {
          "name": "stdout",
          "output_type": "stream",
          "text": [
            "File content: Hello, \n",
            "how do you do?\n",
            "\n",
            "what is my name?\n",
            "\n"
          ]
        }
      ],
      "source": [
        "# File operations\n",
        "\n",
        "\n",
        "# Reading a file\n",
        "with open(\"data/example.txt\", \"r\") as file:\n",
        "    content = file.read()\n",
        "    print(\"File content:\", content)\n",
        "\n",
        "random_number = random.randint(1, 100)\n",
        "print(random_number)\n",
        "\n",
        "with open(\"data/example_saved.txt\", \"w\") as file:\n",
        "    file.write(str(random_number))\n",
        "\n",
        "# Excercise 4:\n",
        "# make a list of names, attach random number to each name and save it to a file\n",
        "\n"
      ]
    },
    {
      "cell_type": "markdown",
      "metadata": {
        "id": "9EIsJHV5oFFR"
      },
      "source": [
        "### More exercises:\n",
        "- https://coin-or.github.io/pulp/main/basic_python_coding.html\n",
        "- https://www.practicepython.org/\n",
        "- https://exercism.org/tracks/python/exercises\n",
        "- https://www.hackinscience.org/exercises/"
      ]
    },
    {
      "cell_type": "code",
      "execution_count": null,
      "metadata": {
        "id": "4wGYwcVEoFFS",
        "outputId": "23adead0-c09a-4de0-e0ef-950940556084"
      },
      "outputs": [
        {
          "name": "stdout",
          "output_type": "stream",
          "text": [
            "Collecting pulp\n",
            "  Downloading PuLP-3.0.2-py3-none-any.whl.metadata (6.7 kB)\n",
            "Downloading PuLP-3.0.2-py3-none-any.whl (17.7 MB)\n",
            "\u001b[2K   \u001b[38;2;114;156;31m━━━━━━━━━━━━━━━━━━━━━━━━━━━━━━━━━━━━━━━━\u001b[0m \u001b[32m17.7/17.7 MB\u001b[0m \u001b[31m74.3 MB/s\u001b[0m eta \u001b[36m0:00:00\u001b[0m31m73.6 MB/s\u001b[0m eta \u001b[36m0:00:01\u001b[0m\n",
            "\u001b[?25hInstalling collected packages: pulp\n",
            "Successfully installed pulp-3.0.2\n",
            "\n",
            "\u001b[1m[\u001b[0m\u001b[34;49mnotice\u001b[0m\u001b[1;39;49m]\u001b[0m\u001b[39;49m A new release of pip is available: \u001b[0m\u001b[31;49m24.2\u001b[0m\u001b[39;49m -> \u001b[0m\u001b[32;49m25.0.1\u001b[0m\n",
            "\u001b[1m[\u001b[0m\u001b[34;49mnotice\u001b[0m\u001b[1;39;49m]\u001b[0m\u001b[39;49m To update, run: \u001b[0m\u001b[32;49mpip install --upgrade pip\u001b[0m\n"
          ]
        }
      ],
      "source": [
        "!pip install pulp"
      ]
    },
    {
      "cell_type": "code",
      "execution_count": null,
      "metadata": {
        "id": "XnEzeCneoFFT",
        "outputId": "08bc008f-4f73-412e-990d-a25eddfd61df"
      },
      "outputs": [
        {
          "name": "stdout",
          "output_type": "stream",
          "text": [
            "Simple_Problem:\n",
            "MAXIMIZE\n",
            "1*x + 1*y + 0\n",
            "SUBJECT TO\n",
            "_C1: x - y = 0\n",
            "\n",
            "VARIABLES\n",
            "x <= 4 Continuous\n",
            "y <= 3 Continuous\n",
            "\n",
            "Welcome to the CBC MILP Solver \n",
            "Version: 2.10.3 \n",
            "Build Date: Dec 15 2019 \n",
            "\n",
            "command line - /home/igor/anaconda3/lib/python3.10/site-packages/pulp/solverdir/cbc/linux/64/cbc /tmp/def9a34a7afd433fa95f122e3cc9dbb1-pulp.mps -max -timeMode elapsed -branch -printingOptions all -solution /tmp/def9a34a7afd433fa95f122e3cc9dbb1-pulp.sol (default strategy 1)\n",
            "At line 2 NAME          MODEL\n",
            "At line 3 ROWS\n",
            "At line 6 COLUMNS\n",
            "At line 11 RHS\n",
            "At line 13 BOUNDS\n",
            "At line 16 ENDATA\n",
            "Problem MODEL has 1 rows, 2 columns and 2 elements\n",
            "Coin0008I MODEL read with 0 errors\n",
            "Option for timeMode changed from cpu to elapsed\n",
            "Presolve 0 (-1) rows, 0 (-2) columns and 0 (-2) elements\n",
            "Empty problem - 0 rows, 0 columns and 0 elements\n",
            "Optimal - objective value 6\n",
            "After Postsolve, objective 6, infeasibilities - dual 0 (0), primal 0 (0)\n",
            "Optimal objective 6 - 0 iterations time 0.002, Presolve 0.00\n",
            "Option for printingOptions changed from normal to all\n",
            "Total time (CPU seconds):       0.00   (Wallclock seconds):       0.00\n",
            "\n",
            "x = 3.0\n",
            "y = 3.0\n"
          ]
        }
      ],
      "source": [
        "# Basics of Pulp\n",
        "\n",
        "import pulp\n",
        "\n",
        "# Creating a problem\n",
        "prob = pulp.LpProblem(\"Simple_Problem\", pulp.LpMaximize) # we want to maximize the objective function\n",
        "\n",
        "# Variables\n",
        "x = pulp.LpVariable('x', lowBound=0, upBound=4) # x must be between 0 and 4\n",
        "y = pulp.LpVariable('y', lowBound=0, upBound=3) # y must be between 0 and 3\n",
        "\n",
        "# Objective function\n",
        "prob += x + y, \"Z\" # we want to maximize the sum of x and y\n",
        "\n",
        "# Constraints\n",
        "prob += x - y == 0 # they must be same\n",
        "print(prob)\n"
      ]
    },
    {
      "cell_type": "code",
      "execution_count": null,
      "metadata": {
        "id": "FIbTt5cqoFFT",
        "outputId": "e33477d2-e245-466e-f1b6-10b8673d0552"
      },
      "outputs": [
        {
          "name": "stdout",
          "output_type": "stream",
          "text": [
            "Welcome to the CBC MILP Solver \n",
            "Version: 2.10.3 \n",
            "Build Date: Dec 15 2019 \n",
            "\n",
            "command line - /home/igor/anaconda3/lib/python3.10/site-packages/pulp/solverdir/cbc/linux/64/cbc /tmp/bd98b3d07cdb4b999b95d30a90a90f73-pulp.mps -max -timeMode elapsed -branch -printingOptions all -solution /tmp/bd98b3d07cdb4b999b95d30a90a90f73-pulp.sol (default strategy 1)\n",
            "At line 2 NAME          MODEL\n",
            "At line 3 ROWS\n",
            "At line 6 COLUMNS\n",
            "At line 11 RHS\n",
            "At line 13 BOUNDS\n",
            "At line 16 ENDATA\n",
            "Problem MODEL has 1 rows, 2 columns and 2 elements\n",
            "Coin0008I MODEL read with 0 errors\n",
            "Option for timeMode changed from cpu to elapsed\n",
            "Presolve 0 (-1) rows, 0 (-2) columns and 0 (-2) elements\n",
            "Empty problem - 0 rows, 0 columns and 0 elements\n",
            "Optimal - objective value 6\n",
            "After Postsolve, objective 6, infeasibilities - dual 0 (0), primal 0 (0)\n",
            "Optimal objective 6 - 0 iterations time 0.002, Presolve 0.00\n",
            "Option for printingOptions changed from normal to all\n",
            "Total time (CPU seconds):       0.00   (Wallclock seconds):       0.00\n",
            "\n",
            "x = 3.0\n",
            "y = 3.0\n"
          ]
        }
      ],
      "source": [
        "# Solving the problem\n",
        "prob.solve()\n",
        "\n",
        "# Printing the results\n",
        "print(\"x =\", x.value())\n",
        "print(\"y =\", y.value())\n"
      ]
    },
    {
      "cell_type": "markdown",
      "metadata": {
        "id": "n73WMGkWoFFU"
      },
      "source": [
        "# Exercise:\n",
        "\n",
        "1. Read the materials about pulp from the website https://coin-or.github.io/pulp/main/index.html and go through the blending problem: https://www.coin-or.org/PuLP/CaseStudies/a_blending_problem.html (rewrite it to your notebook).\n",
        "\n",
        "There are two versions of the solution. I suggest you start with the first one which provides step by step solution with comments. Put each part of the code in a separate cell.\n",
        "Only when you understand the first version, move to the second one which provides a more compact code beneficial for larger problems.\n",
        "\n",
        "2. In the blending problem, add a decision variable. Create a variable that will appear in the final product composition (i.e., the value of the variable will have a non-zero form)\n",
        "\n",
        "3. Add a constraint regarding vitamin B content\n",
        "\n",
        "Content:\n",
        "\n",
        "| Name       | content μg/100g   |\n",
        "|------------|-------------------|\n",
        "| chicken    | 0.3               |\n",
        "| beef       | 2.6               |\n",
        "| mutton     | 2.6               |\n",
        "| rice       | 0                 |\n",
        "| wheat bran | 0                 |\n",
        "| gel        | 0                 |\n",
        "| sardines   | 8.9               |\n",
        "\n",
        "A cat needs to eat a minimum of 0.24 μg per kilogram of body weight of vitamin B, so approximately\n",
        "0.8 μg daily.\n",
        "\n",
        "Try tu use the form presented at the end of the tutorial as this will be used in the next lab. Retun variables using the"
      ]
    },
    {
      "cell_type": "markdown",
      "metadata": {
        "id": "HnFK0rSNoFFU"
      },
      "source": []
    }
  ],
  "metadata": {
    "kernelspec": {
      "display_name": "base",
      "language": "python",
      "name": "python3"
    },
    "language_info": {
      "codemirror_mode": {
        "name": "ipython",
        "version": 3
      },
      "file_extension": ".py",
      "mimetype": "text/x-python",
      "name": "python",
      "nbconvert_exporter": "python",
      "pygments_lexer": "ipython3",
      "version": "3.7.3"
    },
    "colab": {
      "provenance": []
    }
  },
  "nbformat": 4,
  "nbformat_minor": 0
}